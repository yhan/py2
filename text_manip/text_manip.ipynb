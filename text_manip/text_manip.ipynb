{
 "cells": [
  {
   "cell_type": "code",
   "execution_count": null,
   "id": "initial_id",
   "metadata": {
    "collapsed": true
   },
   "outputs": [],
   "source": [
    "import re\n",
    "import random\n",
    "\n",
    "# Generate fake log lines\n",
    "def generate_logs(n):\n",
    "    logs = []\n",
    "    for _ in range(n):\n",
    "        digits = ''.join(random.choices('0123456789', k=10))\n",
    "        log = f\"... NewOrdSOR ... S{digits}OROL01 ... more text ...\"\n",
    "        logs.append(log)\n",
    "    return logs\n",
    "\n",
    "# Extract pattern: S[0-9]{10}OROL01\n",
    "def extract_ids(logs):\n",
    "    pattern = re.compile(r\"S\\d{10}OROL01\")\n",
    "    return [match.group() for line in logs for match in pattern.finditer(line)]\n",
    "\n",
    "# --- Run ---\n",
    "logs = generate_logs(20)\n",
    "\n",
    "# Write to file\n",
    "with open(\"../data/logs.txt\", \"w\") as f:\n",
    "    for line in logs:\n",
    "        f.write(line + \"\\n\")\n",
    "\n",
    "print(\"Log lines written to logs.txt\")\n"
   ]
  },
  {
   "metadata": {
    "ExecuteTime": {
     "end_time": "2025-07-29T18:39:45.720997Z",
     "start_time": "2025-07-29T18:39:45.712430Z"
    }
   },
   "cell_type": "code",
   "source": [
    "# With repetitions\n",
    "import re\n",
    "import random\n",
    "\n",
    "# Generate a pool of unique IDs\n",
    "def generate_ids(num_unique):\n",
    "    return [f\"S{''.join(random.choices('0123456789', k=10))}OROL01\" for _ in range(num_unique)]\n",
    "\n",
    "# Generate log lines with some repeated IDs\n",
    "def generate_logs(total_lines, num_unique_ids):\n",
    "    ids = generate_ids(num_unique_ids)\n",
    "    logs = []\n",
    "    for _ in range(total_lines):\n",
    "        selected_id = random.choice(ids)  # Allow repetition\n",
    "        log = f\"... NewOrdSOR ... {selected_id} ... more text ...\"\n",
    "        logs.append(log)\n",
    "    return logs\n",
    "\n",
    "# Extract IDs from logs\n",
    "def extract_ids(logs):\n",
    "    pattern = re.compile(r\"S\\d{10}OROL01\")\n",
    "    return [match.group() for line in logs for match in pattern.finditer(line)]\n",
    "\n",
    "# --- Run ---\n",
    "logs = generate_logs(total_lines=50, num_unique_ids=10)\n",
    "\n",
    "# Write to file\n",
    "with open(\"logs.txt\", mode=\"w\") as f:\n",
    "    for line in logs:\n",
    "        f.write(line + \"\\n\")\n",
    "\n",
    "print(\"Log lines with repeated IDs written to logs.txt\")\n",
    "\n"
   ],
   "id": "8a15752f7d2fb82a",
   "outputs": [
    {
     "name": "stdout",
     "output_type": "stream",
     "text": [
      "Log lines with repeated IDs written to logs.txt\n"
     ]
    }
   ],
   "execution_count": 2
  },
  {
   "metadata": {},
   "cell_type": "markdown",
   "source": [
    "# grep\n",
    "1. count unique id\n",
    "   ```\n",
    "   grep \"NewOrdSOR\" logs.txt | sed -nE 's/.*\\b(S[0-9]{10}OROL01)\\b.*/\\1/p' | sort | uniq -c\n",
    "   ```\n",
    "\n",
    "2. count unique id sorted by count desc\n",
    "   ```\n",
    "   grep \"NewOrdSOR\" logs.txt | sed -nE 's/.*\\b(S[0-9]{10}OROL01)\\b.*/\\1/p' | sort | uniq -c | sort -nr\n",
    "   ```\n",
    "\n",
    "   explanation:\n",
    "   ```\n",
    "   10 S0001112223OROL01\n",
    "   ```\n",
    "\n",
    "   So sort -nr means:\n",
    "\n",
    "   -n: extract the number from the beginning of each line and use it as the sort key.\n",
    "\n",
    "   -r: reverse the order (i.e., largest counts first)\n",
    "\n",
    "   sort -nr does not try to interpret \" S5493196488OROL01\" as a number — it doesn't need to.\n",
    "\n",
    "\n",
    "##  The sed part\n",
    "\n",
    "```\n",
    "sed -nE 's/.*\\b(S[0-9]{10}ROL01)\\b.*/\\1/'\n",
    "```\n",
    "\n",
    "Component\t    Meaning\n",
    "-n\t            Suppresses default output (print nothing unless told explicitly)\n",
    "-E\t            Enables extended regex (so you can use +, {} without backslashes)\n",
    "'s/.../.../p'\ts/// is the substitute command; p means “print the result if a substitution occurred”\n",
    "\n",
    "\n",
    "Inside the substitution:\n",
    "\n",
    "s/.*\\b(S[0-9]{10}ROL01)\\b.*/\\1/\n",
    "\n",
    "Parts:\n",
    "Regex Part\t        Explanation\n",
    ".*\t                Match anything at the beginning of the line (greedy)\n",
    "\\b\t                Word boundary – ensures we're at a word boundary before the ID\n",
    "(S[0-9]{10}ROL01)\tCapturing group that matches IDs like S0000125206ROL01\n",
    "\\b\t                Another word boundary after the ID\n",
    ".*\t                Match anything after the ID\n",
    "/\\1/\t            Replace the full line with just the match (\\1 = first capture group)\n",
    "p\t                Print the result (only lines where the substitution happened)\n",
    "\n",
    "\n"
   ],
   "id": "24da75783a927b82"
  }
 ],
 "metadata": {
  "kernelspec": {
   "display_name": "Python 3",
   "language": "python",
   "name": "python3"
  },
  "language_info": {
   "codemirror_mode": {
    "name": "ipython",
    "version": 2
   },
   "file_extension": ".py",
   "mimetype": "text/x-python",
   "name": "python",
   "nbconvert_exporter": "python",
   "pygments_lexer": "ipython2",
   "version": "2.7.6"
  }
 },
 "nbformat": 4,
 "nbformat_minor": 5
}
