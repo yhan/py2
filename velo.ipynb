{
 "cells": [
  {
   "cell_type": "code",
   "id": "initial_id",
   "metadata": {
    "collapsed": true,
    "ExecuteTime": {
     "end_time": "2025-07-20T15:23:13.602403Z",
     "start_time": "2025-07-20T15:23:12.782966Z"
    }
   },
   "source": [
    "# Render our plots inline\n",
    "%matplotlib inline\n",
    "\n",
    "import pandas as pd\n",
    "import matplotlib.pyplot as plt\n",
    "\n",
    "# Make the graphs a bit prettier, and bigger\n",
    "plt.style.use('ggplot')\n",
    "plt.rcParams['figure.figsize'] = (15, 5)"
   ],
   "outputs": [],
   "execution_count": 1
  },
  {
   "metadata": {
    "ExecuteTime": {
     "end_time": "2025-07-20T15:37:06.470Z",
     "start_time": "2025-07-20T15:37:06.464251Z"
    }
   },
   "cell_type": "code",
   "source": "broken_df = pd.read_csv('./data/localisation_des_compteurs_velo.csv',encoding = \"ISO-8859-1\")",
   "id": "d3c4cbd09ae4fda6",
   "outputs": [],
   "execution_count": 22
  },
  {
   "metadata": {
    "ExecuteTime": {
     "end_time": "2025-07-20T15:37:10.317739Z",
     "start_time": "2025-07-20T15:37:10.306529Z"
    }
   },
   "cell_type": "code",
   "source": [
    "# Look at the first 3 rows\n",
    "broken_df"
   ],
   "id": "df20ca88eb52c2",
   "outputs": [
    {
     "data": {
      "text/plain": [
       "           ID  Ancien_ID                                   Nom  \\\n",
       "0   100041114        NaN              Eco-Display Parc Stanley   \n",
       "1   100002880       10.0                  Pont Jacques-Cartier   \n",
       "2   100003032        3.0                                Berri1   \n",
       "3   100003034        6.0                     Rachel / Papineau   \n",
       "4   100003039        5.0                    Maisonneuve / Peel   \n",
       "..        ...        ...                                   ...   \n",
       "59  300020679        NaN  REV Bellechasse/Av Christophe Colomb   \n",
       "60  300020817        NaN             REV St Denis/Castelnau NB   \n",
       "61  300020816        NaN             REV St Denis/Castelnau SB   \n",
       "62  300028650        NaN                              Villeray   \n",
       "63  300032161        NaN                Maisonneuve / Papineau   \n",
       "\n",
       "            Statut   Latitude  Longitude  Annee_implante  \n",
       "0            Actif  45.557593 -73.673222            2018  \n",
       "1   En maintenance  45.525508 -73.554422            2011  \n",
       "2            Actif  45.516216 -73.562970            2010  \n",
       "3            Actif  45.530448 -73.569540            2007  \n",
       "4            Actif  45.500507 -73.574970            2008  \n",
       "..             ...        ...        ...             ...  \n",
       "59           Actif  45.536000 -73.598800            2021  \n",
       "60           Actif  45.539050 -73.616870            2021  \n",
       "61           Actif  45.539050 -73.616860            2021  \n",
       "62           Actif  45.547048 -73.618387            2022  \n",
       "63           Actif  45.523842 -73.553228            2023  \n",
       "\n",
       "[64 rows x 7 columns]"
      ],
      "text/html": [
       "<div>\n",
       "<style scoped>\n",
       "    .dataframe tbody tr th:only-of-type {\n",
       "        vertical-align: middle;\n",
       "    }\n",
       "\n",
       "    .dataframe tbody tr th {\n",
       "        vertical-align: top;\n",
       "    }\n",
       "\n",
       "    .dataframe thead th {\n",
       "        text-align: right;\n",
       "    }\n",
       "</style>\n",
       "<table border=\"1\" class=\"dataframe\">\n",
       "  <thead>\n",
       "    <tr style=\"text-align: right;\">\n",
       "      <th></th>\n",
       "      <th>ID</th>\n",
       "      <th>Ancien_ID</th>\n",
       "      <th>Nom</th>\n",
       "      <th>Statut</th>\n",
       "      <th>Latitude</th>\n",
       "      <th>Longitude</th>\n",
       "      <th>Annee_implante</th>\n",
       "    </tr>\n",
       "  </thead>\n",
       "  <tbody>\n",
       "    <tr>\n",
       "      <th>0</th>\n",
       "      <td>100041114</td>\n",
       "      <td>NaN</td>\n",
       "      <td>Eco-Display Parc Stanley</td>\n",
       "      <td>Actif</td>\n",
       "      <td>45.557593</td>\n",
       "      <td>-73.673222</td>\n",
       "      <td>2018</td>\n",
       "    </tr>\n",
       "    <tr>\n",
       "      <th>1</th>\n",
       "      <td>100002880</td>\n",
       "      <td>10.0</td>\n",
       "      <td>Pont Jacques-Cartier</td>\n",
       "      <td>En maintenance</td>\n",
       "      <td>45.525508</td>\n",
       "      <td>-73.554422</td>\n",
       "      <td>2011</td>\n",
       "    </tr>\n",
       "    <tr>\n",
       "      <th>2</th>\n",
       "      <td>100003032</td>\n",
       "      <td>3.0</td>\n",
       "      <td>Berri1</td>\n",
       "      <td>Actif</td>\n",
       "      <td>45.516216</td>\n",
       "      <td>-73.562970</td>\n",
       "      <td>2010</td>\n",
       "    </tr>\n",
       "    <tr>\n",
       "      <th>3</th>\n",
       "      <td>100003034</td>\n",
       "      <td>6.0</td>\n",
       "      <td>Rachel / Papineau</td>\n",
       "      <td>Actif</td>\n",
       "      <td>45.530448</td>\n",
       "      <td>-73.569540</td>\n",
       "      <td>2007</td>\n",
       "    </tr>\n",
       "    <tr>\n",
       "      <th>4</th>\n",
       "      <td>100003039</td>\n",
       "      <td>5.0</td>\n",
       "      <td>Maisonneuve / Peel</td>\n",
       "      <td>Actif</td>\n",
       "      <td>45.500507</td>\n",
       "      <td>-73.574970</td>\n",
       "      <td>2008</td>\n",
       "    </tr>\n",
       "    <tr>\n",
       "      <th>...</th>\n",
       "      <td>...</td>\n",
       "      <td>...</td>\n",
       "      <td>...</td>\n",
       "      <td>...</td>\n",
       "      <td>...</td>\n",
       "      <td>...</td>\n",
       "      <td>...</td>\n",
       "    </tr>\n",
       "    <tr>\n",
       "      <th>59</th>\n",
       "      <td>300020679</td>\n",
       "      <td>NaN</td>\n",
       "      <td>REV Bellechasse/Av Christophe Colomb</td>\n",
       "      <td>Actif</td>\n",
       "      <td>45.536000</td>\n",
       "      <td>-73.598800</td>\n",
       "      <td>2021</td>\n",
       "    </tr>\n",
       "    <tr>\n",
       "      <th>60</th>\n",
       "      <td>300020817</td>\n",
       "      <td>NaN</td>\n",
       "      <td>REV St Denis/Castelnau NB</td>\n",
       "      <td>Actif</td>\n",
       "      <td>45.539050</td>\n",
       "      <td>-73.616870</td>\n",
       "      <td>2021</td>\n",
       "    </tr>\n",
       "    <tr>\n",
       "      <th>61</th>\n",
       "      <td>300020816</td>\n",
       "      <td>NaN</td>\n",
       "      <td>REV St Denis/Castelnau SB</td>\n",
       "      <td>Actif</td>\n",
       "      <td>45.539050</td>\n",
       "      <td>-73.616860</td>\n",
       "      <td>2021</td>\n",
       "    </tr>\n",
       "    <tr>\n",
       "      <th>62</th>\n",
       "      <td>300028650</td>\n",
       "      <td>NaN</td>\n",
       "      <td>Villeray</td>\n",
       "      <td>Actif</td>\n",
       "      <td>45.547048</td>\n",
       "      <td>-73.618387</td>\n",
       "      <td>2022</td>\n",
       "    </tr>\n",
       "    <tr>\n",
       "      <th>63</th>\n",
       "      <td>300032161</td>\n",
       "      <td>NaN</td>\n",
       "      <td>Maisonneuve / Papineau</td>\n",
       "      <td>Actif</td>\n",
       "      <td>45.523842</td>\n",
       "      <td>-73.553228</td>\n",
       "      <td>2023</td>\n",
       "    </tr>\n",
       "  </tbody>\n",
       "</table>\n",
       "<p>64 rows × 7 columns</p>\n",
       "</div>"
      ]
     },
     "execution_count": 23,
     "metadata": {},
     "output_type": "execute_result"
    }
   ],
   "execution_count": 23
  },
  {
   "metadata": {
    "ExecuteTime": {
     "end_time": "2025-07-20T15:37:12.906251Z",
     "start_time": "2025-07-20T15:37:12.801145Z"
    }
   },
   "cell_type": "code",
   "source": [
    "# fixed_df = pd.read_csv('./data/localisation_des_compteurs_velo.csv', sep=';', encoding='latin1', parse_dates=['Annee_implante'], dayfirst=True, index_col=6)\n",
    "# fixed_df[:3]\n",
    "\n",
    "df = pd.read_csv('./data/localisation_des_compteurs_velo.csv')\n",
    "df[:3]\n",
    "\n",
    "df['ID'].plot()"
   ],
   "id": "83620730ec291ec7",
   "outputs": [
    {
     "data": {
      "text/plain": [
       "<Axes: >"
      ]
     },
     "execution_count": 24,
     "metadata": {},
     "output_type": "execute_result"
    },
    {
     "data": {
      "text/plain": [
       "<Figure size 1500x500 with 1 Axes>"
      ],
      "image/png": "[encoded data removed]"
     },
     "metadata": {},
     "output_type": "display_data"
    }
   ],
   "execution_count": 24
  },
  {
   "metadata": {
    "ExecuteTime": {
     "end_time": "2025-07-20T15:48:49.187679Z",
     "start_time": "2025-07-20T15:48:49.183412Z"
    }
   },
   "cell_type": "code",
   "source": [
    "# df['ID'].plot.hist(bins=20)\n",
    "\n",
    "df['ID'].sort_values().head(5)"
   ],
   "id": "4dc0acb81815c0a5",
   "outputs": [
    {
     "data": {
      "text/plain": [
       "44           38\n",
       "45           39\n",
       "22    100001753\n",
       "1     100002880\n",
       "2     100003032\n",
       "Name: ID, dtype: int64"
      ]
     },
     "execution_count": 32,
     "metadata": {},
     "output_type": "execute_result"
    }
   ],
   "execution_count": 32
  },
  {
   "metadata": {
    "ExecuteTime": {
     "end_time": "2025-07-20T15:42:54.373452Z",
     "start_time": "2025-07-20T15:42:54.364938Z"
    }
   },
   "cell_type": "code",
   "source": [
    "df['ID'].isna().sum()\n",
    "df[df['ID'] < 1e6]  # suspiciously small IDs\n"
   ],
   "id": "bb82838ab023c536",
   "outputs": [
    {
     "data": {
      "text/plain": [
       "    ID  Ancien_ID                        Nom       Statut  Latitude  \\\n",
       "44  38       38.0           Parc U-Zelt Test  À supprimer  45.51370   \n",
       "45  39       39.0  Saint-Laurent U-Zelt Test  À supprimer  45.52782   \n",
       "\n",
       "    Longitude  Annee_implante  \n",
       "44  -73.58221            2015  \n",
       "45  -73.60311            2015  "
      ],
      "text/html": [
       "<div>\n",
       "<style scoped>\n",
       "    .dataframe tbody tr th:only-of-type {\n",
       "        vertical-align: middle;\n",
       "    }\n",
       "\n",
       "    .dataframe tbody tr th {\n",
       "        vertical-align: top;\n",
       "    }\n",
       "\n",
       "    .dataframe thead th {\n",
       "        text-align: right;\n",
       "    }\n",
       "</style>\n",
       "<table border=\"1\" class=\"dataframe\">\n",
       "  <thead>\n",
       "    <tr style=\"text-align: right;\">\n",
       "      <th></th>\n",
       "      <th>ID</th>\n",
       "      <th>Ancien_ID</th>\n",
       "      <th>Nom</th>\n",
       "      <th>Statut</th>\n",
       "      <th>Latitude</th>\n",
       "      <th>Longitude</th>\n",
       "      <th>Annee_implante</th>\n",
       "    </tr>\n",
       "  </thead>\n",
       "  <tbody>\n",
       "    <tr>\n",
       "      <th>44</th>\n",
       "      <td>38</td>\n",
       "      <td>38.0</td>\n",
       "      <td>Parc U-Zelt Test</td>\n",
       "      <td>À supprimer</td>\n",
       "      <td>45.51370</td>\n",
       "      <td>-73.58221</td>\n",
       "      <td>2015</td>\n",
       "    </tr>\n",
       "    <tr>\n",
       "      <th>45</th>\n",
       "      <td>39</td>\n",
       "      <td>39.0</td>\n",
       "      <td>Saint-Laurent U-Zelt Test</td>\n",
       "      <td>À supprimer</td>\n",
       "      <td>45.52782</td>\n",
       "      <td>-73.60311</td>\n",
       "      <td>2015</td>\n",
       "    </tr>\n",
       "  </tbody>\n",
       "</table>\n",
       "</div>"
      ]
     },
     "execution_count": 29,
     "metadata": {},
     "output_type": "execute_result"
    }
   ],
   "execution_count": 29
  }
 ],
 "metadata": {
  "kernelspec": {
   "display_name": "Python 3",
   "language": "python",
   "name": "python3"
  },
  "language_info": {
   "codemirror_mode": {
    "name": "ipython",
    "version": 2
   },
   "file_extension": ".py",
   "mimetype": "text/x-python",
   "name": "python",
   "nbconvert_exporter": "python",
   "pygments_lexer": "ipython2",
   "version": "2.7.6"
  }
 },
 "nbformat": 4,
 "nbformat_minor": 5
}
